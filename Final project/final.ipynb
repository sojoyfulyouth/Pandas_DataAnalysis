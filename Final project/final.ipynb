{
 "cells": [
  {
   "attachments": {},
   "cell_type": "markdown",
   "metadata": {},
   "source": [
    "# 오픈소스 SW 활용 기말 프로젝트\n",
    "#### 32202341 송지윤"
   ]
  },
  {
   "attachments": {},
   "cell_type": "markdown",
   "metadata": {},
   "source": [
    "#### cryptocurrency change in 2020-2022 COVID-19 "
   ]
  },
  {
   "cell_type": "code",
   "execution_count": 3,
   "metadata": {},
   "outputs": [
    {
     "name": "stdout",
     "output_type": "stream",
     "text": [
      "                             id symbol                       name\n",
      "0                        01coin    zoc                     01coin\n",
      "1                        0chain    zcn                        Zus\n",
      "2                 0vix-protocol    vix              0VIX Protocol\n",
      "3                            0x    zrx                0x Protocol\n",
      "4      0x0-ai-ai-smart-contract    0x0  0x0.ai: AI Smart Contract\n",
      "...                         ...    ...                        ...\n",
      "10006                   zynergy    zyn                    Zynergy\n",
      "10007                      zyro   zyro                       Zyro\n",
      "10008                     zyrri    zyr                      Zyrri\n",
      "10009                       zyx    zyx                        ZYX\n",
      "10010                       zzz    zzz                GoSleep ZZZ\n",
      "\n",
      "[10011 rows x 3 columns]\n"
     ]
    }
   ],
   "source": [
    "import pandas as pd\n",
    "import requests\n",
    "\n",
    "# API의 모든 코인 아이디, 이름 출력\n",
    "# Define the API endpoint\n",
    "url = \"https://api.coingecko.com/api/v3/coins/list\"\n",
    "\n",
    "# Send a GET request to the API\n",
    "response = requests.get(url)\n",
    "\n",
    "# Parse the response and extract the coin data\n",
    "data = response.json()\n",
    "\n",
    "# Convert the coin data into a pandas DataFrame\n",
    "df = pd.DataFrame(data)\n",
    "\n",
    "# Print the DataFrame\n",
    "print(df)\n"
   ]
  },
  {
   "cell_type": "code",
   "execution_count": 2,
   "metadata": {},
   "outputs": [
    {
     "name": "stdout",
     "output_type": "stream",
     "text": [
      "      Timestamp         Price\n",
      "0    2020-01-01   7195.153895\n",
      "1    2020-01-02   7193.754668\n",
      "2    2020-01-03   6963.853354\n",
      "3    2020-01-04   7300.346935\n",
      "4    2020-01-05   7351.377053\n",
      "...         ...           ...\n",
      "1090 2022-12-26  16842.177040\n",
      "1091 2022-12-27  16900.081872\n",
      "1092 2022-12-28  16701.840211\n",
      "1093 2022-12-29  16538.906094\n",
      "1094 2022-12-30  16644.379087\n",
      "\n",
      "[1095 rows x 2 columns]\n"
     ]
    }
   ],
   "source": [
    "# 2020-2022 비트코인 가격 변화\n",
    "\n",
    "# Define the API endpoint and parameters\n",
    "url = \"https://api.coingecko.com/api/v3/coins/bitcoin/market_chart/range\"\n",
    "params = {\n",
    "    \"vs_currency\": \"usd\",\n",
    "    \"from\": 1577836800,  # UNIX timestamp for Jan 1, 2020\n",
    "    \"to\": 1672444799,    # UNIX timestamp for Dec 31, 2022\n",
    "}\n",
    "\n",
    "# Send a GET request to the API\n",
    "response = requests.get(url, params=params)\n",
    "\n",
    "# Parse the response and extract the price data\n",
    "data = response.json()\n",
    "prices = data['prices']\n",
    "\n",
    "# Convert the price data into a pandas DataFrame\n",
    "df = pd.DataFrame(prices, columns=['Timestamp', 'Price'])\n",
    "\n",
    "# Convert the timestamp to datetime format\n",
    "df['Timestamp'] = pd.to_datetime(df['Timestamp'], unit='ms')\n",
    "\n",
    "# Print the DataFrame\n",
    "print(df)\n"
   ]
  }
 ],
 "metadata": {
  "kernelspec": {
   "display_name": "Python 3",
   "language": "python",
   "name": "python3"
  },
  "language_info": {
   "codemirror_mode": {
    "name": "ipython",
    "version": 3
   },
   "file_extension": ".py",
   "mimetype": "text/x-python",
   "name": "python",
   "nbconvert_exporter": "python",
   "pygments_lexer": "ipython3",
   "version": "3.11.4"
  },
  "orig_nbformat": 4
 },
 "nbformat": 4,
 "nbformat_minor": 2
}
