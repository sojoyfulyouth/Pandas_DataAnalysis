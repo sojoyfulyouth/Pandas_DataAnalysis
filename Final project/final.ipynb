{
 "cells": [
  {
   "attachments": {},
   "cell_type": "markdown",
   "metadata": {},
   "source": [
    "# 오픈소스 SW 활용 기말 프로젝트\n",
    "#### 32202341 송지윤"
   ]
  }
 ],
 "metadata": {
  "language_info": {
   "name": "python"
  },
  "orig_nbformat": 4
 },
 "nbformat": 4,
 "nbformat_minor": 2
}
